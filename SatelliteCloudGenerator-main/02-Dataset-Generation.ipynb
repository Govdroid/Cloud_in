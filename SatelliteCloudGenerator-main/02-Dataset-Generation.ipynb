{
 "cells": [
  {
   "cell_type": "markdown",
   "id": "86f04409",
   "metadata": {},
   "source": [
    "# Dataset Generation"
   ]
  },
  {
   "cell_type": "markdown",
   "id": "3ec6894f",
   "metadata": {},
   "source": [
    "This script allows for fast generation of a dataset of cloud and shadow masks. The masks can then be mixed with any new image to generate a version with clouds and shadows (see an example of posterior mixing at the very bottom!)"
   ]
  },
  {
   "cell_type": "code",
   "execution_count": 1,
   "id": "accessible-auditor",
   "metadata": {},
   "outputs": [],
   "source": [
    "%load_ext autoreload\n",
    "%autoreload 2\n",
    "%matplotlib inline"
   ]
  },
  {
   "cell_type": "code",
   "execution_count": 2,
   "id": "academic-beast",
   "metadata": {},
   "outputs": [
    {
     "name": "stderr",
     "output_type": "stream",
     "text": [
      "C:\\Users\\govin\\AppData\\Local\\Temp\\ipykernel_17964\\831301661.py:19: DeprecationWarning: Starting with ImageIO v3 the behavior of this function will switch to that of iio.v3.imread. To keep the current behavior (and make this warning disappear) use `import imageio.v2 as imageio` or call `imageio.v2.imread` directly.\n",
      "  rgb_img=imageio.imread('imgs/rgb_example.png')[...,:3]/255\n"
     ]
    }
   ],
   "source": [
    "import rasterio as rio\n",
    "from pathlib import Path\n",
    "import os\n",
    "\n",
    "import matplotlib as mpl\n",
    "import matplotlib.pyplot as plt\n",
    "import numpy as np\n",
    "import imageio\n",
    "\n",
    "from src import *\n",
    "\n",
    "\n",
    "# visualization\n",
    "plt.rcParams[\"figure.figsize\"] = (4,4)\n",
    "def show(tensor,*args,**kwargs):    \n",
    "    plt.imshow(tensor.squeeze(0).permute(1,2,0),*args,**kwargs)\n",
    "\n",
    "GPU_IDX = 0\n",
    "rgb_img=imageio.imread('imgs/rgb_example.png')[...,:3]/255\n",
    "# to tensor (B,C,H,W)\n",
    "rgb_img = torch.FloatTensor(rgb_img).permute(2,0,1).unsqueeze(0)\n",
    "const_img=np.ones_like(rgb_img)*0.5"
   ]
  },
  {
   "cell_type": "code",
   "execution_count": 3,
   "id": "7a84d246",
   "metadata": {},
   "outputs": [],
   "source": [
    "# dataset params\n",
    "N=20 # image count\n",
    "shape=(256,256) # image shape\n",
    "data_dir=Path(\"./data/cloud_dataset\")"
   ]
  },
  {
   "cell_type": "markdown",
   "id": "d3dc2462",
   "metadata": {},
   "source": [
    "## Group 1: Thick Clouds"
   ]
  },
  {
   "cell_type": "code",
   "execution_count": null,
   "id": "fc7fa3bd",
   "metadata": {},
   "outputs": [],
   "source": [
    "out_dir=(data_dir / \"thick\")\n",
    "out_dir.mkdir(parents=True, exist_ok=True)\n",
    "\n",
    "display=True\n",
    "\n",
    "for idx in range(N):\n",
    "\n",
    "    cl, cmask, smask = add_cloud_and_shadow(rgb_img,\n",
    "                                            return_cloud=True\n",
    "                                           )\n",
    "\n",
    "    if display:\n",
    "        plt.figure()\n",
    "        plt.subplot(1,3,1)\n",
    "        show(cl)\n",
    "        plt.axis('off')\n",
    "        plt.subplot(1,3,2)\n",
    "        show(cmask)\n",
    "        plt.axis('off')\n",
    "        plt.subplot(1,3,3)\n",
    "        show(smask)\n",
    "        plt.axis('off')\n",
    "        plt.tight_layout()\n",
    "    \n",
    "    # save images\n",
    "    with open(out_dir / \"cloud_{}.npy\".format(idx), 'wb') as f:\n",
    "        np.save(f,cmask)\n",
    "    with open(out_dir / \"shadow_{}.npy\".format(idx), 'wb') as f:\n",
    "        np.save(f,smask)"
   ]
  },
  {
   "cell_type": "markdown",
   "id": "0f4b28e6",
   "metadata": {},
   "source": [
    "## Group 2: Local"
   ]
  },
  {
   "cell_type": "code",
   "execution_count": 6,
   "id": "29667c1a",
   "metadata": {},
   "outputs": [],
   "source": [
    "out_dir=(data_dir / \"local\")\n",
    "out_dir.mkdir(parents=True, exist_ok=True)\n",
    "\n",
    "display=True\n",
    "\n",
    "for idx in range(N):\n",
    "\n",
    "    cl, cmask, smask = add_cloud_and_shadow(rgb_img,\n",
    "                                            locality_degree=3,\n",
    "                                            return_cloud=True\n",
    "                                           )\n",
    "\n",
    "    if display:\n",
    "        plt.figure()\n",
    "        plt.subplot(1,3,1)\n",
    "        show(cl)\n",
    "        plt.axis('off')\n",
    "        plt.subplot(1,3,2)\n",
    "        show(cmask)\n",
    "        plt.axis('off')\n",
    "        plt.subplot(1,3,3)\n",
    "        show(smask)\n",
    "        plt.axis('off')\n",
    "        plt.tight_layout()\n",
    "    \n",
    "    # save images\n",
    "    with open(out_dir / \"cloud_{}.npy\".format(idx), 'wb') as f:\n",
    "        np.save(f,cmask)\n",
    "    with open(out_dir / \"shadow_{}.npy\".format(idx), 'wb') as f:\n",
    "        np.save(f,smask)"
   ]
  },
  {
   "cell_type": "markdown",
   "id": "7e70e0aa",
   "metadata": {},
   "source": [
    "## Group 3: Haze"
   ]
  },
  {
   "cell_type": "code",
   "execution_count": 7,
   "id": "34c72564",
   "metadata": {},
   "outputs": [],
   "source": [
    "out_dir=(data_dir / \"thin\")\n",
    "out_dir.mkdir(parents=True, exist_ok=True)\n",
    "\n",
    "display=True\n",
    "\n",
    "for idx in range(N):\n",
    "\n",
    "    cl, cmask, smask = add_cloud_and_shadow(rgb_img,\n",
    "                                            min_lvl=0.4,\n",
    "                                            max_lvl=0.6,\n",
    "                                            decay_factor=1.5,\n",
    "                                            return_cloud=True\n",
    "                                           )\n",
    "\n",
    "    if display:\n",
    "        plt.figure()\n",
    "        plt.subplot(1,3,1)\n",
    "        show(cl)\n",
    "        plt.axis('off')\n",
    "        plt.subplot(1,3,2)\n",
    "        show(cmask)\n",
    "        plt.axis('off')\n",
    "        plt.subplot(1,3,3)\n",
    "        show(smask)\n",
    "        plt.axis('off')\n",
    "        plt.tight_layout()\n",
    "    \n",
    "    # save images\n",
    "    with open(out_dir / \"cloud_{}.npy\".format(idx), 'wb') as f:\n",
    "        np.save(f,cmask)\n",
    "    with open(out_dir / \"shadow_{}.npy\".format(idx), 'wb') as f:\n",
    "        np.save(f,smask)"
   ]
  },
  {
   "cell_type": "markdown",
   "id": "60f88c19",
   "metadata": {},
   "source": [
    "# Dataset Usage\n",
    "If we have an clear image like the `rgb_image`, it can be mixed with any new cloud using the `mix()` function in `SatelliteCloudGenerator` (make sure you import the package)."
   ]
  },
  {
   "cell_type": "code",
   "execution_count": 8,
   "id": "26c0a09a",
   "metadata": {},
   "outputs": [],
   "source": [
    "# our new image\n",
    "rgb_img = torch.from_numpy(imageio.imread('imgs/rgb_example.png')[...,:3]/255)\n",
    "rgb_img = rgb_img.permute(2,0,1).unsqueeze(0)\n",
    "\n",
    "# a cloud from our dataset\n",
    "with open('./data/cloud_dataset/local/cloud_1.npy', 'rb') as f:\n",
    "    cmask = torch.from_numpy(np.load(f))\n",
    "    \n",
    "# a shadow from our dataset\n",
    "with open('./data/cloud_dataset/thick/shadow_1.npy', 'rb') as f:\n",
    "    smask = torch.from_numpy(np.load(f))\n",
    "    \n",
    "# apply mixing\n",
    "cloudy_img = mix(rgb_img, cmask)"
   ]
  },
  {
   "cell_type": "code",
   "execution_count": 9,
   "id": "0af3c845",
   "metadata": {},
   "outputs": [],
   "source": [
    "plt.figure(figsize=(10,10))\n",
    "\n",
    "plt.subplot(1,3,1)\n",
    "show(rgb_img)\n",
    "plt.title('Example Image')\n",
    "plt.subplot(1,3,2)\n",
    "show(cmask)\n",
    "plt.title('Cloud from Dataset')\n",
    "plt.subplot(1,3,3)\n",
    "show(cloudy_img)\n",
    "plt.title('Result')"
   ]
  },
  {
   "cell_type": "code",
   "execution_count": 10,
   "id": "b738b05b",
   "metadata": {},
   "outputs": [],
   "source": [
    "cloudy_shadowy_img = mix(rgb_img, cmask, shadow=smask)"
   ]
  },
  {
   "cell_type": "code",
   "execution_count": 11,
   "id": "f7d1118c",
   "metadata": {},
   "outputs": [],
   "source": [
    "plt.figure(figsize=(10,10))\n",
    "\n",
    "plt.subplot(1,4,1)\n",
    "show(rgb_img)\n",
    "plt.title('Example Image')\n",
    "plt.subplot(1,4,2)\n",
    "show(cmask)\n",
    "plt.title('Cloud from Dataset')\n",
    "plt.subplot(1,4,3)\n",
    "show(smask)\n",
    "plt.title('Shadow from Dataset')\n",
    "plt.subplot(1,4,4)\n",
    "show(cloudy_shadowy_img)\n",
    "plt.title('Result')"
   ]
  },
  {
   "cell_type": "code",
   "execution_count": null,
   "id": "f763d535",
   "metadata": {},
   "outputs": [],
   "source": []
  }
 ],
 "metadata": {
  "kernelspec": {
   "display_name": "Python 3 (ipykernel)",
   "language": "python",
   "name": "python3"
  },
  "language_info": {
   "codemirror_mode": {
    "name": "ipython",
    "version": 3
   },
   "file_extension": ".py",
   "mimetype": "text/x-python",
   "name": "python",
   "nbconvert_exporter": "python",
   "pygments_lexer": "ipython3",
   "version": "3.11.3"
  }
 },
 "nbformat": 4,
 "nbformat_minor": 5
}
